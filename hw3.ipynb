{
 "cells": [
  {
   "cell_type": "code",
   "execution_count": 36,
   "metadata": {},
   "outputs": [],
   "source": [
    "import numpy\n",
    "import pandas as pd\n",
    "import json\n",
    "import random\n",
    "import numpy as np"
   ]
  },
  {
   "cell_type": "code",
   "execution_count": 23,
   "metadata": {},
   "outputs": [],
   "source": [
    "reviews = []\n",
    "with open('reviews_Movies_and_TV_5.json') as json_file: \n",
    "    for rec in json_file:\n",
    "        dic = json.loads(rec)\n",
    "        reviews.append(dic)"
   ]
  },
  {
   "cell_type": "code",
   "execution_count": 26,
   "metadata": {},
   "outputs": [],
   "source": [
    "# Use only the first 500,000 records for faster computation\n",
    "random.seed(123)\n",
    "random.shuffle(reviews)\n",
    "reviews = reviews[:500000]"
   ]
  },
  {
   "cell_type": "code",
   "execution_count": 27,
   "metadata": {},
   "outputs": [],
   "source": [
    "review = []\n",
    "label = []"
   ]
  },
  {
   "cell_type": "code",
   "execution_count": 29,
   "metadata": {},
   "outputs": [],
   "source": [
    "for rev in reviews:\n",
    "    review.append(rev['reviewText'])\n",
    "    label.append(rev['overall'])"
   ]
  },
  {
   "cell_type": "code",
   "execution_count": 30,
   "metadata": {},
   "outputs": [],
   "source": [
    "review_df = pd.DataFrame({\"review\":review, \"label\":label})"
   ]
  },
  {
   "cell_type": "code",
   "execution_count": 38,
   "metadata": {},
   "outputs": [
    {
     "name": "stdout",
     "output_type": "stream",
     "text": [
      "Number of documents is 500000\n"
     ]
    }
   ],
   "source": [
    "print(\"Number of documents is %s\"%len(review_df))"
   ]
  },
  {
   "cell_type": "code",
   "execution_count": 39,
   "metadata": {},
   "outputs": [
    {
     "name": "stdout",
     "output_type": "stream",
     "text": [
      "Number of labels is 5\n"
     ]
    }
   ],
   "source": [
    "print(\"Number of labels is %s\"%len(review_df.label.unique()))"
   ]
  },
  {
   "cell_type": "code",
   "execution_count": 44,
   "metadata": {},
   "outputs": [
    {
     "name": "stdout",
     "output_type": "stream",
     "text": [
      "Label distribution is as follows: \n",
      "   label  review  proportion\n",
      "0    1.0   30757    0.061514\n",
      "1    2.0   30068    0.060136\n",
      "2    3.0   59488    0.118976\n",
      "3    4.0  113145    0.226290\n",
      "4    5.0  266381    0.532762\n"
     ]
    }
   ],
   "source": [
    "print(\"Label distribution is as follows: \")\n",
    "distribution = review_df.groupby('label')['review'].nunique().reset_index()\n",
    "distribution['proportion'] = distribution['review'] / len(review_df)\n",
    "print(distribution)"
   ]
  },
  {
   "cell_type": "code",
   "execution_count": 49,
   "metadata": {},
   "outputs": [
    {
     "name": "stdout",
     "output_type": "stream",
     "text": [
      "Average word length in a review is 164.213994\n"
     ]
    }
   ],
   "source": [
    "print(\"Average word length in a review is %s\"%(np.mean([len(text.split(' ')) for text in review_df['review']])))"
   ]
  },
  {
   "cell_type": "code",
   "execution_count": null,
   "metadata": {},
   "outputs": [],
   "source": []
  }
 ],
 "metadata": {
  "kernelspec": {
   "display_name": "Python 3",
   "language": "python",
   "name": "python3"
  },
  "language_info": {
   "codemirror_mode": {
    "name": "ipython",
    "version": 3
   },
   "file_extension": ".py",
   "mimetype": "text/x-python",
   "name": "python",
   "nbconvert_exporter": "python",
   "pygments_lexer": "ipython3",
   "version": "3.8.3"
  }
 },
 "nbformat": 4,
 "nbformat_minor": 4
}
